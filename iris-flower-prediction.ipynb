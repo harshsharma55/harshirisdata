{
 "cells": [
  {
   "cell_type": "markdown",
   "id": "8c4bc64f",
   "metadata": {
    "papermill": {
     "duration": 0.01276,
     "end_time": "2024-07-08T06:38:36.610532",
     "exception": false,
     "start_time": "2024-07-08T06:38:36.597772",
     "status": "completed"
    },
    "tags": []
   },
   "source": [
    "# **IRIS FLOWER CLASSIFICATION**"
   ]
  },
  {
   "cell_type": "code",
   "execution_count": 1,
   "id": "a3ba009d",
   "metadata": {
    "execution": {
     "iopub.execute_input": "2024-07-08T06:38:36.637317Z",
     "iopub.status.busy": "2024-07-08T06:38:36.636837Z",
     "iopub.status.idle": "2024-07-08T06:38:39.226412Z",
     "shell.execute_reply": "2024-07-08T06:38:39.225222Z"
    },
    "papermill": {
     "duration": 2.606338,
     "end_time": "2024-07-08T06:38:39.229332",
     "exception": false,
     "start_time": "2024-07-08T06:38:36.622994",
     "status": "completed"
    },
    "tags": []
   },
   "outputs": [],
   "source": [
    "import numpy as np\n",
    "import pandas as pd\n",
    "import matplotlib.pyplot as plt\n",
    "import seaborn as sns"
   ]
  },
  {
   "cell_type": "code",
   "execution_count": 2,
   "id": "11e88628",
   "metadata": {
    "execution": {
     "iopub.execute_input": "2024-07-08T06:38:39.255524Z",
     "iopub.status.busy": "2024-07-08T06:38:39.254958Z",
     "iopub.status.idle": "2024-07-08T06:38:39.279611Z",
     "shell.execute_reply": "2024-07-08T06:38:39.278373Z"
    },
    "papermill": {
     "duration": 0.040932,
     "end_time": "2024-07-08T06:38:39.282486",
     "exception": false,
     "start_time": "2024-07-08T06:38:39.241554",
     "status": "completed"
    },
    "tags": []
   },
   "outputs": [],
   "source": [
    "iris = pd.read_csv('/kaggle/input/iris-flower-dataset/IRIS.csv')"
   ]
  },
  {
   "cell_type": "code",
   "execution_count": 3,
   "id": "b6f68304",
   "metadata": {
    "execution": {
     "iopub.execute_input": "2024-07-08T06:38:39.308976Z",
     "iopub.status.busy": "2024-07-08T06:38:39.308578Z",
     "iopub.status.idle": "2024-07-08T06:38:39.316650Z",
     "shell.execute_reply": "2024-07-08T06:38:39.315318Z"
    },
    "papermill": {
     "duration": 0.024565,
     "end_time": "2024-07-08T06:38:39.319433",
     "exception": false,
     "start_time": "2024-07-08T06:38:39.294868",
     "status": "completed"
    },
    "tags": []
   },
   "outputs": [
    {
     "data": {
      "text/plain": [
       "(150, 5)"
      ]
     },
     "execution_count": 3,
     "metadata": {},
     "output_type": "execute_result"
    }
   ],
   "source": [
    "iris.shape"
   ]
  },
  {
   "cell_type": "code",
   "execution_count": 4,
   "id": "eca4092b",
   "metadata": {
    "execution": {
     "iopub.execute_input": "2024-07-08T06:38:39.346022Z",
     "iopub.status.busy": "2024-07-08T06:38:39.345631Z",
     "iopub.status.idle": "2024-07-08T06:38:39.373240Z",
     "shell.execute_reply": "2024-07-08T06:38:39.372146Z"
    },
    "papermill": {
     "duration": 0.044252,
     "end_time": "2024-07-08T06:38:39.376037",
     "exception": false,
     "start_time": "2024-07-08T06:38:39.331785",
     "status": "completed"
    },
    "tags": []
   },
   "outputs": [
    {
     "data": {
      "text/html": [
       "<div>\n",
       "<style scoped>\n",
       "    .dataframe tbody tr th:only-of-type {\n",
       "        vertical-align: middle;\n",
       "    }\n",
       "\n",
       "    .dataframe tbody tr th {\n",
       "        vertical-align: top;\n",
       "    }\n",
       "\n",
       "    .dataframe thead th {\n",
       "        text-align: right;\n",
       "    }\n",
       "</style>\n",
       "<table border=\"1\" class=\"dataframe\">\n",
       "  <thead>\n",
       "    <tr style=\"text-align: right;\">\n",
       "      <th></th>\n",
       "      <th>sepal_length</th>\n",
       "      <th>sepal_width</th>\n",
       "      <th>petal_length</th>\n",
       "      <th>petal_width</th>\n",
       "      <th>species</th>\n",
       "    </tr>\n",
       "  </thead>\n",
       "  <tbody>\n",
       "    <tr>\n",
       "      <th>0</th>\n",
       "      <td>5.1</td>\n",
       "      <td>3.5</td>\n",
       "      <td>1.4</td>\n",
       "      <td>0.2</td>\n",
       "      <td>Iris-setosa</td>\n",
       "    </tr>\n",
       "    <tr>\n",
       "      <th>1</th>\n",
       "      <td>4.9</td>\n",
       "      <td>3.0</td>\n",
       "      <td>1.4</td>\n",
       "      <td>0.2</td>\n",
       "      <td>Iris-setosa</td>\n",
       "    </tr>\n",
       "    <tr>\n",
       "      <th>2</th>\n",
       "      <td>4.7</td>\n",
       "      <td>3.2</td>\n",
       "      <td>1.3</td>\n",
       "      <td>0.2</td>\n",
       "      <td>Iris-setosa</td>\n",
       "    </tr>\n",
       "    <tr>\n",
       "      <th>3</th>\n",
       "      <td>4.6</td>\n",
       "      <td>3.1</td>\n",
       "      <td>1.5</td>\n",
       "      <td>0.2</td>\n",
       "      <td>Iris-setosa</td>\n",
       "    </tr>\n",
       "    <tr>\n",
       "      <th>4</th>\n",
       "      <td>5.0</td>\n",
       "      <td>3.6</td>\n",
       "      <td>1.4</td>\n",
       "      <td>0.2</td>\n",
       "      <td>Iris-setosa</td>\n",
       "    </tr>\n",
       "  </tbody>\n",
       "</table>\n",
       "</div>"
      ],
      "text/plain": [
       "   sepal_length  sepal_width  petal_length  petal_width      species\n",
       "0           5.1          3.5           1.4          0.2  Iris-setosa\n",
       "1           4.9          3.0           1.4          0.2  Iris-setosa\n",
       "2           4.7          3.2           1.3          0.2  Iris-setosa\n",
       "3           4.6          3.1           1.5          0.2  Iris-setosa\n",
       "4           5.0          3.6           1.4          0.2  Iris-setosa"
      ]
     },
     "execution_count": 4,
     "metadata": {},
     "output_type": "execute_result"
    }
   ],
   "source": [
    "iris.head()"
   ]
  },
  {
   "cell_type": "code",
   "execution_count": 5,
   "id": "20c747eb",
   "metadata": {
    "execution": {
     "iopub.execute_input": "2024-07-08T06:38:39.403071Z",
     "iopub.status.busy": "2024-07-08T06:38:39.402674Z",
     "iopub.status.idle": "2024-07-08T06:38:39.412775Z",
     "shell.execute_reply": "2024-07-08T06:38:39.411655Z"
    },
    "papermill": {
     "duration": 0.026787,
     "end_time": "2024-07-08T06:38:39.415456",
     "exception": false,
     "start_time": "2024-07-08T06:38:39.388669",
     "status": "completed"
    },
    "tags": []
   },
   "outputs": [
    {
     "data": {
      "text/plain": [
       "sepal_length    0\n",
       "sepal_width     0\n",
       "petal_length    0\n",
       "petal_width     0\n",
       "species         0\n",
       "dtype: int64"
      ]
     },
     "execution_count": 5,
     "metadata": {},
     "output_type": "execute_result"
    }
   ],
   "source": [
    "iris.isnull().sum()"
   ]
  },
  {
   "cell_type": "code",
   "execution_count": 6,
   "id": "4cf7d89d",
   "metadata": {
    "execution": {
     "iopub.execute_input": "2024-07-08T06:38:39.444242Z",
     "iopub.status.busy": "2024-07-08T06:38:39.443831Z",
     "iopub.status.idle": "2024-07-08T06:38:39.471096Z",
     "shell.execute_reply": "2024-07-08T06:38:39.469827Z"
    },
    "papermill": {
     "duration": 0.045018,
     "end_time": "2024-07-08T06:38:39.474240",
     "exception": false,
     "start_time": "2024-07-08T06:38:39.429222",
     "status": "completed"
    },
    "tags": []
   },
   "outputs": [
    {
     "name": "stdout",
     "output_type": "stream",
     "text": [
      "<class 'pandas.core.frame.DataFrame'>\n",
      "RangeIndex: 150 entries, 0 to 149\n",
      "Data columns (total 5 columns):\n",
      " #   Column        Non-Null Count  Dtype  \n",
      "---  ------        --------------  -----  \n",
      " 0   sepal_length  150 non-null    float64\n",
      " 1   sepal_width   150 non-null    float64\n",
      " 2   petal_length  150 non-null    float64\n",
      " 3   petal_width   150 non-null    float64\n",
      " 4   species       150 non-null    object \n",
      "dtypes: float64(4), object(1)\n",
      "memory usage: 6.0+ KB\n"
     ]
    }
   ],
   "source": [
    "iris.info()"
   ]
  },
  {
   "cell_type": "code",
   "execution_count": 7,
   "id": "cf9e5a57",
   "metadata": {
    "execution": {
     "iopub.execute_input": "2024-07-08T06:38:39.502560Z",
     "iopub.status.busy": "2024-07-08T06:38:39.502177Z",
     "iopub.status.idle": "2024-07-08T06:38:39.512476Z",
     "shell.execute_reply": "2024-07-08T06:38:39.511223Z"
    },
    "papermill": {
     "duration": 0.027313,
     "end_time": "2024-07-08T06:38:39.515100",
     "exception": false,
     "start_time": "2024-07-08T06:38:39.487787",
     "status": "completed"
    },
    "tags": []
   },
   "outputs": [
    {
     "data": {
      "text/plain": [
       "species\n",
       "Iris-setosa        50\n",
       "Iris-versicolor    50\n",
       "Iris-virginica     50\n",
       "Name: count, dtype: int64"
      ]
     },
     "execution_count": 7,
     "metadata": {},
     "output_type": "execute_result"
    }
   ],
   "source": [
    "iris['species'].value_counts()"
   ]
  },
  {
   "cell_type": "code",
   "execution_count": 8,
   "id": "1bb7e93e",
   "metadata": {
    "execution": {
     "iopub.execute_input": "2024-07-08T06:38:39.545974Z",
     "iopub.status.busy": "2024-07-08T06:38:39.545561Z",
     "iopub.status.idle": "2024-07-08T06:38:39.574292Z",
     "shell.execute_reply": "2024-07-08T06:38:39.573053Z"
    },
    "papermill": {
     "duration": 0.048135,
     "end_time": "2024-07-08T06:38:39.576865",
     "exception": false,
     "start_time": "2024-07-08T06:38:39.528730",
     "status": "completed"
    },
    "tags": []
   },
   "outputs": [
    {
     "data": {
      "text/html": [
       "<div>\n",
       "<style scoped>\n",
       "    .dataframe tbody tr th:only-of-type {\n",
       "        vertical-align: middle;\n",
       "    }\n",
       "\n",
       "    .dataframe tbody tr th {\n",
       "        vertical-align: top;\n",
       "    }\n",
       "\n",
       "    .dataframe thead th {\n",
       "        text-align: right;\n",
       "    }\n",
       "</style>\n",
       "<table border=\"1\" class=\"dataframe\">\n",
       "  <thead>\n",
       "    <tr style=\"text-align: right;\">\n",
       "      <th></th>\n",
       "      <th>sepal_length</th>\n",
       "      <th>sepal_width</th>\n",
       "      <th>petal_length</th>\n",
       "      <th>petal_width</th>\n",
       "    </tr>\n",
       "  </thead>\n",
       "  <tbody>\n",
       "    <tr>\n",
       "      <th>count</th>\n",
       "      <td>150.000000</td>\n",
       "      <td>150.000000</td>\n",
       "      <td>150.000000</td>\n",
       "      <td>150.000000</td>\n",
       "    </tr>\n",
       "    <tr>\n",
       "      <th>mean</th>\n",
       "      <td>5.843333</td>\n",
       "      <td>3.054000</td>\n",
       "      <td>3.758667</td>\n",
       "      <td>1.198667</td>\n",
       "    </tr>\n",
       "    <tr>\n",
       "      <th>std</th>\n",
       "      <td>0.828066</td>\n",
       "      <td>0.433594</td>\n",
       "      <td>1.764420</td>\n",
       "      <td>0.763161</td>\n",
       "    </tr>\n",
       "    <tr>\n",
       "      <th>min</th>\n",
       "      <td>4.300000</td>\n",
       "      <td>2.000000</td>\n",
       "      <td>1.000000</td>\n",
       "      <td>0.100000</td>\n",
       "    </tr>\n",
       "    <tr>\n",
       "      <th>25%</th>\n",
       "      <td>5.100000</td>\n",
       "      <td>2.800000</td>\n",
       "      <td>1.600000</td>\n",
       "      <td>0.300000</td>\n",
       "    </tr>\n",
       "    <tr>\n",
       "      <th>50%</th>\n",
       "      <td>5.800000</td>\n",
       "      <td>3.000000</td>\n",
       "      <td>4.350000</td>\n",
       "      <td>1.300000</td>\n",
       "    </tr>\n",
       "    <tr>\n",
       "      <th>75%</th>\n",
       "      <td>6.400000</td>\n",
       "      <td>3.300000</td>\n",
       "      <td>5.100000</td>\n",
       "      <td>1.800000</td>\n",
       "    </tr>\n",
       "    <tr>\n",
       "      <th>max</th>\n",
       "      <td>7.900000</td>\n",
       "      <td>4.400000</td>\n",
       "      <td>6.900000</td>\n",
       "      <td>2.500000</td>\n",
       "    </tr>\n",
       "  </tbody>\n",
       "</table>\n",
       "</div>"
      ],
      "text/plain": [
       "       sepal_length  sepal_width  petal_length  petal_width\n",
       "count    150.000000   150.000000    150.000000   150.000000\n",
       "mean       5.843333     3.054000      3.758667     1.198667\n",
       "std        0.828066     0.433594      1.764420     0.763161\n",
       "min        4.300000     2.000000      1.000000     0.100000\n",
       "25%        5.100000     2.800000      1.600000     0.300000\n",
       "50%        5.800000     3.000000      4.350000     1.300000\n",
       "75%        6.400000     3.300000      5.100000     1.800000\n",
       "max        7.900000     4.400000      6.900000     2.500000"
      ]
     },
     "execution_count": 8,
     "metadata": {},
     "output_type": "execute_result"
    }
   ],
   "source": [
    "iris.describe()"
   ]
  },
  {
   "cell_type": "code",
   "execution_count": 9,
   "id": "ef8d4c72",
   "metadata": {
    "execution": {
     "iopub.execute_input": "2024-07-08T06:38:39.607177Z",
     "iopub.status.busy": "2024-07-08T06:38:39.606746Z",
     "iopub.status.idle": "2024-07-08T06:38:39.627920Z",
     "shell.execute_reply": "2024-07-08T06:38:39.626184Z"
    },
    "papermill": {
     "duration": 0.039576,
     "end_time": "2024-07-08T06:38:39.631088",
     "exception": false,
     "start_time": "2024-07-08T06:38:39.591512",
     "status": "completed"
    },
    "tags": []
   },
   "outputs": [
    {
     "data": {
      "text/html": [
       "<div>\n",
       "<style scoped>\n",
       "    .dataframe tbody tr th:only-of-type {\n",
       "        vertical-align: middle;\n",
       "    }\n",
       "\n",
       "    .dataframe tbody tr th {\n",
       "        vertical-align: top;\n",
       "    }\n",
       "\n",
       "    .dataframe thead th {\n",
       "        text-align: right;\n",
       "    }\n",
       "</style>\n",
       "<table border=\"1\" class=\"dataframe\">\n",
       "  <thead>\n",
       "    <tr style=\"text-align: right;\">\n",
       "      <th></th>\n",
       "      <th>sepal_length</th>\n",
       "      <th>sepal_width</th>\n",
       "      <th>petal_length</th>\n",
       "      <th>petal_width</th>\n",
       "    </tr>\n",
       "    <tr>\n",
       "      <th>species</th>\n",
       "      <th></th>\n",
       "      <th></th>\n",
       "      <th></th>\n",
       "      <th></th>\n",
       "    </tr>\n",
       "  </thead>\n",
       "  <tbody>\n",
       "    <tr>\n",
       "      <th>Iris-setosa</th>\n",
       "      <td>5.006</td>\n",
       "      <td>3.418</td>\n",
       "      <td>1.464</td>\n",
       "      <td>0.244</td>\n",
       "    </tr>\n",
       "    <tr>\n",
       "      <th>Iris-versicolor</th>\n",
       "      <td>5.936</td>\n",
       "      <td>2.770</td>\n",
       "      <td>4.260</td>\n",
       "      <td>1.326</td>\n",
       "    </tr>\n",
       "    <tr>\n",
       "      <th>Iris-virginica</th>\n",
       "      <td>6.588</td>\n",
       "      <td>2.974</td>\n",
       "      <td>5.552</td>\n",
       "      <td>2.026</td>\n",
       "    </tr>\n",
       "  </tbody>\n",
       "</table>\n",
       "</div>"
      ],
      "text/plain": [
       "                 sepal_length  sepal_width  petal_length  petal_width\n",
       "species                                                              \n",
       "Iris-setosa             5.006        3.418         1.464        0.244\n",
       "Iris-versicolor         5.936        2.770         4.260        1.326\n",
       "Iris-virginica          6.588        2.974         5.552        2.026"
      ]
     },
     "execution_count": 9,
     "metadata": {},
     "output_type": "execute_result"
    }
   ],
   "source": [
    "iris.groupby('species').mean()"
   ]
  },
  {
   "cell_type": "code",
   "execution_count": 10,
   "id": "49daf64c",
   "metadata": {
    "execution": {
     "iopub.execute_input": "2024-07-08T06:38:39.660349Z",
     "iopub.status.busy": "2024-07-08T06:38:39.659910Z",
     "iopub.status.idle": "2024-07-08T06:38:40.240321Z",
     "shell.execute_reply": "2024-07-08T06:38:40.238941Z"
    },
    "papermill": {
     "duration": 0.598341,
     "end_time": "2024-07-08T06:38:40.243175",
     "exception": false,
     "start_time": "2024-07-08T06:38:39.644834",
     "status": "completed"
    },
    "tags": []
   },
   "outputs": [
    {
     "data": {
      "text/plain": [
       "Text(0.5, 1.0, 'Sepal Length vs Sepal Width')"
      ]
     },
     "execution_count": 10,
     "metadata": {},
     "output_type": "execute_result"
    },
    {
     "data": {
      "image/png": "[encoded data removed]",
      "text/plain": [
       "<Figure size 640x480 with 1 Axes>"
      ]
     },
     "metadata": {},
     "output_type": "display_data"
    }
   ],
   "source": [
    "# Sepal = leaf structure\n",
    "sns.scatterplot(data=iris, x='sepal_length', y='sepal_width', hue='species')\n",
    "plt.title('Sepal Length vs Sepal Width')"
   ]
  },
  {
   "cell_type": "code",
   "execution_count": 11,
   "id": "d32563e8",
   "metadata": {
    "execution": {
     "iopub.execute_input": "2024-07-08T06:38:40.274139Z",
     "iopub.status.busy": "2024-07-08T06:38:40.273695Z",
     "iopub.status.idle": "2024-07-08T06:38:40.727457Z",
     "shell.execute_reply": "2024-07-08T06:38:40.726114Z"
    },
    "papermill": {
     "duration": 0.473587,
     "end_time": "2024-07-08T06:38:40.731358",
     "exception": false,
     "start_time": "2024-07-08T06:38:40.257771",
     "status": "completed"
    },
    "tags": []
   },
   "outputs": [
    {
     "data": {
      "text/plain": [
       "Text(0.5, 1.0, 'Patel Length vs Patel Width')"
      ]
     },
     "execution_count": 11,
     "metadata": {},
     "output_type": "execute_result"
    },
    {
     "data": {
      "image/png": "[encoded data removed]",
      "text/plain": [
       "<Figure size 640x480 with 1 Axes>"
      ]
     },
     "metadata": {},
     "output_type": "display_data"
    }
   ],
   "source": [
    "# Patel = flower part\n",
    "sns.scatterplot(data=iris, x='petal_length', y='petal_width', hue='species')\n",
    "plt.title('Patel Length vs Patel Width')"
   ]
  },
  {
   "cell_type": "markdown",
   "id": "29ab6dcf",
   "metadata": {
    "papermill": {
     "duration": 0.015906,
     "end_time": "2024-07-08T06:38:40.764322",
     "exception": false,
     "start_time": "2024-07-08T06:38:40.748416",
     "status": "completed"
    },
    "tags": []
   },
   "source": [
    "### **Correlation Coefficient** "
   ]
  },
  {
   "cell_type": "code",
   "execution_count": 12,
   "id": "714c0f48",
   "metadata": {
    "execution": {
     "iopub.execute_input": "2024-07-08T06:38:40.799902Z",
     "iopub.status.busy": "2024-07-08T06:38:40.799482Z",
     "iopub.status.idle": "2024-07-08T06:38:40.806816Z",
     "shell.execute_reply": "2024-07-08T06:38:40.805655Z"
    },
    "papermill": {
     "duration": 0.028582,
     "end_time": "2024-07-08T06:38:40.809690",
     "exception": false,
     "start_time": "2024-07-08T06:38:40.781108",
     "status": "completed"
    },
    "tags": []
   },
   "outputs": [],
   "source": [
    "iris['species'] = iris['species'].map({'Iris-setosa':1, 'Iris-versicolor':2, 'Iris-virginica':3})"
   ]
  },
  {
   "cell_type": "code",
   "execution_count": 13,
   "id": "3866763a",
   "metadata": {
    "execution": {
     "iopub.execute_input": "2024-07-08T06:38:40.842889Z",
     "iopub.status.busy": "2024-07-08T06:38:40.842205Z",
     "iopub.status.idle": "2024-07-08T06:38:40.859478Z",
     "shell.execute_reply": "2024-07-08T06:38:40.857694Z"
    },
    "papermill": {
     "duration": 0.03693,
     "end_time": "2024-07-08T06:38:40.862148",
     "exception": false,
     "start_time": "2024-07-08T06:38:40.825218",
     "status": "completed"
    },
    "tags": []
   },
   "outputs": [
    {
     "data": {
      "text/html": [
       "<div>\n",
       "<style scoped>\n",
       "    .dataframe tbody tr th:only-of-type {\n",
       "        vertical-align: middle;\n",
       "    }\n",
       "\n",
       "    .dataframe tbody tr th {\n",
       "        vertical-align: top;\n",
       "    }\n",
       "\n",
       "    .dataframe thead th {\n",
       "        text-align: right;\n",
       "    }\n",
       "</style>\n",
       "<table border=\"1\" class=\"dataframe\">\n",
       "  <thead>\n",
       "    <tr style=\"text-align: right;\">\n",
       "      <th></th>\n",
       "      <th>sepal_length</th>\n",
       "      <th>sepal_width</th>\n",
       "      <th>petal_length</th>\n",
       "      <th>petal_width</th>\n",
       "      <th>species</th>\n",
       "    </tr>\n",
       "  </thead>\n",
       "  <tbody>\n",
       "    <tr>\n",
       "      <th>sepal_length</th>\n",
       "      <td>1.000000</td>\n",
       "      <td>-0.109369</td>\n",
       "      <td>0.871754</td>\n",
       "      <td>0.817954</td>\n",
       "      <td>0.782561</td>\n",
       "    </tr>\n",
       "    <tr>\n",
       "      <th>sepal_width</th>\n",
       "      <td>-0.109369</td>\n",
       "      <td>1.000000</td>\n",
       "      <td>-0.420516</td>\n",
       "      <td>-0.356544</td>\n",
       "      <td>-0.419446</td>\n",
       "    </tr>\n",
       "    <tr>\n",
       "      <th>petal_length</th>\n",
       "      <td>0.871754</td>\n",
       "      <td>-0.420516</td>\n",
       "      <td>1.000000</td>\n",
       "      <td>0.962757</td>\n",
       "      <td>0.949043</td>\n",
       "    </tr>\n",
       "    <tr>\n",
       "      <th>petal_width</th>\n",
       "      <td>0.817954</td>\n",
       "      <td>-0.356544</td>\n",
       "      <td>0.962757</td>\n",
       "      <td>1.000000</td>\n",
       "      <td>0.956464</td>\n",
       "    </tr>\n",
       "    <tr>\n",
       "      <th>species</th>\n",
       "      <td>0.782561</td>\n",
       "      <td>-0.419446</td>\n",
       "      <td>0.949043</td>\n",
       "      <td>0.956464</td>\n",
       "      <td>1.000000</td>\n",
       "    </tr>\n",
       "  </tbody>\n",
       "</table>\n",
       "</div>"
      ],
      "text/plain": [
       "              sepal_length  sepal_width  petal_length  petal_width   species\n",
       "sepal_length      1.000000    -0.109369      0.871754     0.817954  0.782561\n",
       "sepal_width      -0.109369     1.000000     -0.420516    -0.356544 -0.419446\n",
       "petal_length      0.871754    -0.420516      1.000000     0.962757  0.949043\n",
       "petal_width       0.817954    -0.356544      0.962757     1.000000  0.956464\n",
       "species           0.782561    -0.419446      0.949043     0.956464  1.000000"
      ]
     },
     "execution_count": 13,
     "metadata": {},
     "output_type": "execute_result"
    }
   ],
   "source": [
    "iris.corr()"
   ]
  },
  {
   "cell_type": "code",
   "execution_count": 14,
   "id": "e29335ac",
   "metadata": {
    "execution": {
     "iopub.execute_input": "2024-07-08T06:38:40.896355Z",
     "iopub.status.busy": "2024-07-08T06:38:40.895929Z",
     "iopub.status.idle": "2024-07-08T06:38:40.904304Z",
     "shell.execute_reply": "2024-07-08T06:38:40.902970Z"
    },
    "papermill": {
     "duration": 0.028774,
     "end_time": "2024-07-08T06:38:40.906938",
     "exception": false,
     "start_time": "2024-07-08T06:38:40.878164",
     "status": "completed"
    },
    "tags": []
   },
   "outputs": [
    {
     "data": {
      "text/plain": [
       "pandas.core.frame.DataFrame"
      ]
     },
     "execution_count": 14,
     "metadata": {},
     "output_type": "execute_result"
    }
   ],
   "source": [
    "type(iris.corr())"
   ]
  },
  {
   "cell_type": "code",
   "execution_count": 15,
   "id": "f46de976",
   "metadata": {
    "execution": {
     "iopub.execute_input": "2024-07-08T06:38:40.943790Z",
     "iopub.status.busy": "2024-07-08T06:38:40.942982Z",
     "iopub.status.idle": "2024-07-08T06:38:40.954020Z",
     "shell.execute_reply": "2024-07-08T06:38:40.952688Z"
    },
    "papermill": {
     "duration": 0.032915,
     "end_time": "2024-07-08T06:38:40.956993",
     "exception": false,
     "start_time": "2024-07-08T06:38:40.924078",
     "status": "completed"
    },
    "tags": []
   },
   "outputs": [
    {
     "data": {
      "text/plain": [
       "sepal_length    0.782561\n",
       "sepal_width    -0.419446\n",
       "petal_length    0.949043\n",
       "petal_width     0.956464\n",
       "species         1.000000\n",
       "Name: species, dtype: float64"
      ]
     },
     "execution_count": 15,
     "metadata": {},
     "output_type": "execute_result"
    }
   ],
   "source": [
    "iris.corr()['species']"
   ]
  },
  {
   "cell_type": "code",
   "execution_count": 16,
   "id": "b1147654",
   "metadata": {
    "execution": {
     "iopub.execute_input": "2024-07-08T06:38:40.994789Z",
     "iopub.status.busy": "2024-07-08T06:38:40.994398Z",
     "iopub.status.idle": "2024-07-08T06:38:41.005242Z",
     "shell.execute_reply": "2024-07-08T06:38:41.004022Z"
    },
    "papermill": {
     "duration": 0.033698,
     "end_time": "2024-07-08T06:38:41.007867",
     "exception": false,
     "start_time": "2024-07-08T06:38:40.974169",
     "status": "completed"
    },
    "tags": []
   },
   "outputs": [
    {
     "data": {
      "text/plain": [
       "sepal_length    0.782561\n",
       "sepal_width    -0.419446\n",
       "petal_length    0.949043\n",
       "petal_width     0.956464\n",
       "Name: species, dtype: float64"
      ]
     },
     "execution_count": 16,
     "metadata": {},
     "output_type": "execute_result"
    }
   ],
   "source": [
    "iris.corr()['species'].drop('species')"
   ]
  },
  {
   "cell_type": "markdown",
   "id": "654a3b13",
   "metadata": {
    "papermill": {
     "duration": 0.016168,
     "end_time": "2024-07-08T06:38:41.041807",
     "exception": false,
     "start_time": "2024-07-08T06:38:41.025639",
     "status": "completed"
    },
    "tags": []
   },
   "source": [
    "Conclusion - the petal length and petal width have a stronger dependency on species compared to sepal length and sepal width."
   ]
  },
  {
   "cell_type": "code",
   "execution_count": 17,
   "id": "d112b6d8",
   "metadata": {
    "execution": {
     "iopub.execute_input": "2024-07-08T06:38:41.077544Z",
     "iopub.status.busy": "2024-07-08T06:38:41.077117Z",
     "iopub.status.idle": "2024-07-08T06:38:41.084412Z",
     "shell.execute_reply": "2024-07-08T06:38:41.083194Z"
    },
    "papermill": {
     "duration": 0.028036,
     "end_time": "2024-07-08T06:38:41.087330",
     "exception": false,
     "start_time": "2024-07-08T06:38:41.059294",
     "status": "completed"
    },
    "tags": []
   },
   "outputs": [],
   "source": [
    "iris_df = iris.drop(columns='sepal_width', axis=1)"
   ]
  },
  {
   "cell_type": "code",
   "execution_count": 18,
   "id": "2f8bc961",
   "metadata": {
    "execution": {
     "iopub.execute_input": "2024-07-08T06:38:41.123024Z",
     "iopub.status.busy": "2024-07-08T06:38:41.122645Z",
     "iopub.status.idle": "2024-07-08T06:38:41.624022Z",
     "shell.execute_reply": "2024-07-08T06:38:41.622667Z"
    },
    "papermill": {
     "duration": 0.522877,
     "end_time": "2024-07-08T06:38:41.626965",
     "exception": false,
     "start_time": "2024-07-08T06:38:41.104088",
     "status": "completed"
    },
    "tags": []
   },
   "outputs": [
    {
     "data": {
      "text/plain": [
       "<Axes: xlabel='sepal_length', ylabel='petal_length'>"
      ]
     },
     "execution_count": 18,
     "metadata": {},
     "output_type": "execute_result"
    },
    {
     "data": {
      "image/png": "[encoded data removed]",
      "text/plain": [
       "<Figure size 640x480 with 1 Axes>"
      ]
     },
     "metadata": {},
     "output_type": "display_data"
    }
   ],
   "source": [
    "sns.scatterplot(data=iris_df, x='sepal_length', y='petal_length', hue='species')"
   ]
  },
  {
   "cell_type": "code",
   "execution_count": 19,
   "id": "861d0fac",
   "metadata": {
    "execution": {
     "iopub.execute_input": "2024-07-08T06:38:41.672923Z",
     "iopub.status.busy": "2024-07-08T06:38:41.671987Z",
     "iopub.status.idle": "2024-07-08T06:38:41.692941Z",
     "shell.execute_reply": "2024-07-08T06:38:41.690210Z"
    },
    "papermill": {
     "duration": 0.05224,
     "end_time": "2024-07-08T06:38:41.697652",
     "exception": false,
     "start_time": "2024-07-08T06:38:41.645412",
     "status": "completed"
    },
    "tags": []
   },
   "outputs": [
    {
     "data": {
      "text/html": [
       "<div>\n",
       "<style scoped>\n",
       "    .dataframe tbody tr th:only-of-type {\n",
       "        vertical-align: middle;\n",
       "    }\n",
       "\n",
       "    .dataframe tbody tr th {\n",
       "        vertical-align: top;\n",
       "    }\n",
       "\n",
       "    .dataframe thead th {\n",
       "        text-align: right;\n",
       "    }\n",
       "</style>\n",
       "<table border=\"1\" class=\"dataframe\">\n",
       "  <thead>\n",
       "    <tr style=\"text-align: right;\">\n",
       "      <th></th>\n",
       "      <th>sepal_length</th>\n",
       "      <th>petal_length</th>\n",
       "      <th>petal_width</th>\n",
       "      <th>species</th>\n",
       "    </tr>\n",
       "  </thead>\n",
       "  <tbody>\n",
       "    <tr>\n",
       "      <th>0</th>\n",
       "      <td>5.1</td>\n",
       "      <td>1.4</td>\n",
       "      <td>0.2</td>\n",
       "      <td>1</td>\n",
       "    </tr>\n",
       "    <tr>\n",
       "      <th>1</th>\n",
       "      <td>4.9</td>\n",
       "      <td>1.4</td>\n",
       "      <td>0.2</td>\n",
       "      <td>1</td>\n",
       "    </tr>\n",
       "    <tr>\n",
       "      <th>2</th>\n",
       "      <td>4.7</td>\n",
       "      <td>1.3</td>\n",
       "      <td>0.2</td>\n",
       "      <td>1</td>\n",
       "    </tr>\n",
       "    <tr>\n",
       "      <th>3</th>\n",
       "      <td>4.6</td>\n",
       "      <td>1.5</td>\n",
       "      <td>0.2</td>\n",
       "      <td>1</td>\n",
       "    </tr>\n",
       "    <tr>\n",
       "      <th>4</th>\n",
       "      <td>5.0</td>\n",
       "      <td>1.4</td>\n",
       "      <td>0.2</td>\n",
       "      <td>1</td>\n",
       "    </tr>\n",
       "  </tbody>\n",
       "</table>\n",
       "</div>"
      ],
      "text/plain": [
       "   sepal_length  petal_length  petal_width  species\n",
       "0           5.1           1.4          0.2        1\n",
       "1           4.9           1.4          0.2        1\n",
       "2           4.7           1.3          0.2        1\n",
       "3           4.6           1.5          0.2        1\n",
       "4           5.0           1.4          0.2        1"
      ]
     },
     "execution_count": 19,
     "metadata": {},
     "output_type": "execute_result"
    }
   ],
   "source": [
    "iris_df.head()"
   ]
  },
  {
   "cell_type": "code",
   "execution_count": null,
   "id": "56cb8472",
   "metadata": {
    "papermill": {
     "duration": 0.023678,
     "end_time": "2024-07-08T06:38:41.743229",
     "exception": false,
     "start_time": "2024-07-08T06:38:41.719551",
     "status": "completed"
    },
    "tags": []
   },
   "outputs": [],
   "source": []
  },
  {
   "cell_type": "markdown",
   "id": "5bb3ad93",
   "metadata": {
    "papermill": {
     "duration": 0.019738,
     "end_time": "2024-07-08T06:38:41.789512",
     "exception": false,
     "start_time": "2024-07-08T06:38:41.769774",
     "status": "completed"
    },
    "tags": []
   },
   "source": [
    "## Model Building"
   ]
  },
  {
   "cell_type": "code",
   "execution_count": 20,
   "id": "f703ebe5",
   "metadata": {
    "execution": {
     "iopub.execute_input": "2024-07-08T06:38:41.830682Z",
     "iopub.status.busy": "2024-07-08T06:38:41.830289Z",
     "iopub.status.idle": "2024-07-08T06:38:42.389148Z",
     "shell.execute_reply": "2024-07-08T06:38:42.387720Z"
    },
    "papermill": {
     "duration": 0.581641,
     "end_time": "2024-07-08T06:38:42.392227",
     "exception": false,
     "start_time": "2024-07-08T06:38:41.810586",
     "status": "completed"
    },
    "tags": []
   },
   "outputs": [],
   "source": [
    "from sklearn.model_selection import train_test_split\n",
    "from sklearn.linear_model import LogisticRegression\n",
    "from sklearn.tree import DecisionTreeClassifier\n",
    "from sklearn.metrics import accuracy_score"
   ]
  },
  {
   "cell_type": "code",
   "execution_count": 21,
   "id": "22d0c869",
   "metadata": {
    "execution": {
     "iopub.execute_input": "2024-07-08T06:38:42.429844Z",
     "iopub.status.busy": "2024-07-08T06:38:42.429433Z",
     "iopub.status.idle": "2024-07-08T06:38:42.435689Z",
     "shell.execute_reply": "2024-07-08T06:38:42.434617Z"
    },
    "papermill": {
     "duration": 0.027893,
     "end_time": "2024-07-08T06:38:42.438279",
     "exception": false,
     "start_time": "2024-07-08T06:38:42.410386",
     "status": "completed"
    },
    "tags": []
   },
   "outputs": [],
   "source": [
    "X = iris_df.drop(columns='species', axis=1)\n",
    "y = iris_df['species']"
   ]
  },
  {
   "cell_type": "code",
   "execution_count": 22,
   "id": "335d6240",
   "metadata": {
    "execution": {
     "iopub.execute_input": "2024-07-08T06:38:42.475561Z",
     "iopub.status.busy": "2024-07-08T06:38:42.475121Z",
     "iopub.status.idle": "2024-07-08T06:38:42.487579Z",
     "shell.execute_reply": "2024-07-08T06:38:42.486199Z"
    },
    "papermill": {
     "duration": 0.034772,
     "end_time": "2024-07-08T06:38:42.490475",
     "exception": false,
     "start_time": "2024-07-08T06:38:42.455703",
     "status": "completed"
    },
    "tags": []
   },
   "outputs": [],
   "source": [
    "X_train, X_test, y_train, y_test = train_test_split(X, y, test_size=0.1, random_state=2, stratify=y)"
   ]
  },
  {
   "cell_type": "code",
   "execution_count": 23,
   "id": "ba4cbedd",
   "metadata": {
    "execution": {
     "iopub.execute_input": "2024-07-08T06:38:42.528226Z",
     "iopub.status.busy": "2024-07-08T06:38:42.527783Z",
     "iopub.status.idle": "2024-07-08T06:38:42.534506Z",
     "shell.execute_reply": "2024-07-08T06:38:42.533327Z"
    },
    "papermill": {
     "duration": 0.028689,
     "end_time": "2024-07-08T06:38:42.537370",
     "exception": false,
     "start_time": "2024-07-08T06:38:42.508681",
     "status": "completed"
    },
    "tags": []
   },
   "outputs": [
    {
     "name": "stdout",
     "output_type": "stream",
     "text": [
      "(135, 3) (15, 3) (135,) (15,)\n"
     ]
    }
   ],
   "source": [
    "print(X_train.shape, X_test.shape, y_train.shape, y_test.shape)"
   ]
  },
  {
   "cell_type": "markdown",
   "id": "86ad2cda",
   "metadata": {
    "papermill": {
     "duration": 0.017191,
     "end_time": "2024-07-08T06:38:42.575426",
     "exception": false,
     "start_time": "2024-07-08T06:38:42.558235",
     "status": "completed"
    },
    "tags": []
   },
   "source": [
    "**Logistic Regression**"
   ]
  },
  {
   "cell_type": "code",
   "execution_count": 24,
   "id": "e8d10708",
   "metadata": {
    "execution": {
     "iopub.execute_input": "2024-07-08T06:38:42.613850Z",
     "iopub.status.busy": "2024-07-08T06:38:42.613382Z",
     "iopub.status.idle": "2024-07-08T06:38:42.618997Z",
     "shell.execute_reply": "2024-07-08T06:38:42.617757Z"
    },
    "papermill": {
     "duration": 0.027655,
     "end_time": "2024-07-08T06:38:42.622001",
     "exception": false,
     "start_time": "2024-07-08T06:38:42.594346",
     "status": "completed"
    },
    "tags": []
   },
   "outputs": [],
   "source": [
    "logistic_model = LogisticRegression()"
   ]
  },
  {
   "cell_type": "code",
   "execution_count": 25,
   "id": "e11120d2",
   "metadata": {
    "execution": {
     "iopub.execute_input": "2024-07-08T06:38:42.726831Z",
     "iopub.status.busy": "2024-07-08T06:38:42.726433Z",
     "iopub.status.idle": "2024-07-08T06:38:42.768410Z",
     "shell.execute_reply": "2024-07-08T06:38:42.766862Z"
    },
    "papermill": {
     "duration": 0.131488,
     "end_time": "2024-07-08T06:38:42.771836",
     "exception": false,
     "start_time": "2024-07-08T06:38:42.640348",
     "status": "completed"
    },
    "tags": []
   },
   "outputs": [
    {
     "data": {
      "text/html": [
       "<style>#sk-container-id-1 {color: black;background-color: white;}#sk-container-id-1 pre{padding: 0;}#sk-container-id-1 div.sk-toggleable {background-color: white;}#sk-container-id-1 label.sk-toggleable__label {cursor: pointer;display: block;width: 100%;margin-bottom: 0;padding: 0.3em;box-sizing: border-box;text-align: center;}#sk-container-id-1 label.sk-toggleable__label-arrow:before {content: \"▸\";float: left;margin-right: 0.25em;color: #696969;}#sk-container-id-1 label.sk-toggleable__label-arrow:hover:before {color: black;}#sk-container-id-1 div.sk-estimator:hover label.sk-toggleable__label-arrow:before {color: black;}#sk-container-id-1 div.sk-toggleable__content {max-height: 0;max-width: 0;overflow: hidden;text-align: left;background-color: #f0f8ff;}#sk-container-id-1 div.sk-toggleable__content pre {margin: 0.2em;color: black;border-radius: 0.25em;background-color: #f0f8ff;}#sk-container-id-1 input.sk-toggleable__control:checked~div.sk-toggleable__content {max-height: 200px;max-width: 100%;overflow: auto;}#sk-container-id-1 input.sk-toggleable__control:checked~label.sk-toggleable__label-arrow:before {content: \"▾\";}#sk-container-id-1 div.sk-estimator input.sk-toggleable__control:checked~label.sk-toggleable__label {background-color: #d4ebff;}#sk-container-id-1 div.sk-label input.sk-toggleable__control:checked~label.sk-toggleable__label {background-color: #d4ebff;}#sk-container-id-1 input.sk-hidden--visually {border: 0;clip: rect(1px 1px 1px 1px);clip: rect(1px, 1px, 1px, 1px);height: 1px;margin: -1px;overflow: hidden;padding: 0;position: absolute;width: 1px;}#sk-container-id-1 div.sk-estimator {font-family: monospace;background-color: #f0f8ff;border: 1px dotted black;border-radius: 0.25em;box-sizing: border-box;margin-bottom: 0.5em;}#sk-container-id-1 div.sk-estimator:hover {background-color: #d4ebff;}#sk-container-id-1 div.sk-parallel-item::after {content: \"\";width: 100%;border-bottom: 1px solid gray;flex-grow: 1;}#sk-container-id-1 div.sk-label:hover label.sk-toggleable__label {background-color: #d4ebff;}#sk-container-id-1 div.sk-serial::before {content: \"\";position: absolute;border-left: 1px solid gray;box-sizing: border-box;top: 0;bottom: 0;left: 50%;z-index: 0;}#sk-container-id-1 div.sk-serial {display: flex;flex-direction: column;align-items: center;background-color: white;padding-right: 0.2em;padding-left: 0.2em;position: relative;}#sk-container-id-1 div.sk-item {position: relative;z-index: 1;}#sk-container-id-1 div.sk-parallel {display: flex;align-items: stretch;justify-content: center;background-color: white;position: relative;}#sk-container-id-1 div.sk-item::before, #sk-container-id-1 div.sk-parallel-item::before {content: \"\";position: absolute;border-left: 1px solid gray;box-sizing: border-box;top: 0;bottom: 0;left: 50%;z-index: -1;}#sk-container-id-1 div.sk-parallel-item {display: flex;flex-direction: column;z-index: 1;position: relative;background-color: white;}#sk-container-id-1 div.sk-parallel-item:first-child::after {align-self: flex-end;width: 50%;}#sk-container-id-1 div.sk-parallel-item:last-child::after {align-self: flex-start;width: 50%;}#sk-container-id-1 div.sk-parallel-item:only-child::after {width: 0;}#sk-container-id-1 div.sk-dashed-wrapped {border: 1px dashed gray;margin: 0 0.4em 0.5em 0.4em;box-sizing: border-box;padding-bottom: 0.4em;background-color: white;}#sk-container-id-1 div.sk-label label {font-family: monospace;font-weight: bold;display: inline-block;line-height: 1.2em;}#sk-container-id-1 div.sk-label-container {text-align: center;}#sk-container-id-1 div.sk-container {/* jupyter's `normalize.less` sets `[hidden] { display: none; }` but bootstrap.min.css set `[hidden] { display: none !important; }` so we also need the `!important` here to be able to override the default hidden behavior on the sphinx rendered scikit-learn.org. See: https://github.com/scikit-learn/scikit-learn/issues/21755 */display: inline-block !important;position: relative;}#sk-container-id-1 div.sk-text-repr-fallback {display: none;}</style><div id=\"sk-container-id-1\" class=\"sk-top-container\"><div class=\"sk-text-repr-fallback\"><pre>LogisticRegression()</pre><b>In a Jupyter environment, please rerun this cell to show the HTML representation or trust the notebook. <br />On GitHub, the HTML representation is unable to render, please try loading this page with nbviewer.org.</b></div><div class=\"sk-container\" hidden><div class=\"sk-item\"><div class=\"sk-estimator sk-toggleable\"><input class=\"sk-toggleable__control sk-hidden--visually\" id=\"sk-estimator-id-1\" type=\"checkbox\" checked><label for=\"sk-estimator-id-1\" class=\"sk-toggleable__label sk-toggleable__label-arrow\">LogisticRegression</label><div class=\"sk-toggleable__content\"><pre>LogisticRegression()</pre></div></div></div></div></div>"
      ],
      "text/plain": [
       "LogisticRegression()"
      ]
     },
     "execution_count": 25,
     "metadata": {},
     "output_type": "execute_result"
    }
   ],
   "source": [
    "logistic_model.fit(X_train, y_train)"
   ]
  },
  {
   "cell_type": "markdown",
   "id": "b30aea81",
   "metadata": {
    "papermill": {
     "duration": 0.017904,
     "end_time": "2024-07-08T06:38:42.807906",
     "exception": false,
     "start_time": "2024-07-08T06:38:42.790002",
     "status": "completed"
    },
    "tags": []
   },
   "source": [
    "**Decision Tree Classification**"
   ]
  },
  {
   "cell_type": "code",
   "execution_count": 26,
   "id": "e067b575",
   "metadata": {
    "execution": {
     "iopub.execute_input": "2024-07-08T06:38:42.846002Z",
     "iopub.status.busy": "2024-07-08T06:38:42.845574Z",
     "iopub.status.idle": "2024-07-08T06:38:42.851090Z",
     "shell.execute_reply": "2024-07-08T06:38:42.849871Z"
    },
    "papermill": {
     "duration": 0.028186,
     "end_time": "2024-07-08T06:38:42.853819",
     "exception": false,
     "start_time": "2024-07-08T06:38:42.825633",
     "status": "completed"
    },
    "tags": []
   },
   "outputs": [],
   "source": [
    "decision_model = DecisionTreeClassifier()"
   ]
  },
  {
   "cell_type": "code",
   "execution_count": 27,
   "id": "b547df61",
   "metadata": {
    "execution": {
     "iopub.execute_input": "2024-07-08T06:38:42.892002Z",
     "iopub.status.busy": "2024-07-08T06:38:42.891265Z",
     "iopub.status.idle": "2024-07-08T06:38:42.903976Z",
     "shell.execute_reply": "2024-07-08T06:38:42.902931Z"
    },
    "papermill": {
     "duration": 0.034536,
     "end_time": "2024-07-08T06:38:42.906462",
     "exception": false,
     "start_time": "2024-07-08T06:38:42.871926",
     "status": "completed"
    },
    "tags": []
   },
   "outputs": [
    {
     "data": {
      "text/html": [
       "<style>#sk-container-id-2 {color: black;background-color: white;}#sk-container-id-2 pre{padding: 0;}#sk-container-id-2 div.sk-toggleable {background-color: white;}#sk-container-id-2 label.sk-toggleable__label {cursor: pointer;display: block;width: 100%;margin-bottom: 0;padding: 0.3em;box-sizing: border-box;text-align: center;}#sk-container-id-2 label.sk-toggleable__label-arrow:before {content: \"▸\";float: left;margin-right: 0.25em;color: #696969;}#sk-container-id-2 label.sk-toggleable__label-arrow:hover:before {color: black;}#sk-container-id-2 div.sk-estimator:hover label.sk-toggleable__label-arrow:before {color: black;}#sk-container-id-2 div.sk-toggleable__content {max-height: 0;max-width: 0;overflow: hidden;text-align: left;background-color: #f0f8ff;}#sk-container-id-2 div.sk-toggleable__content pre {margin: 0.2em;color: black;border-radius: 0.25em;background-color: #f0f8ff;}#sk-container-id-2 input.sk-toggleable__control:checked~div.sk-toggleable__content {max-height: 200px;max-width: 100%;overflow: auto;}#sk-container-id-2 input.sk-toggleable__control:checked~label.sk-toggleable__label-arrow:before {content: \"▾\";}#sk-container-id-2 div.sk-estimator input.sk-toggleable__control:checked~label.sk-toggleable__label {background-color: #d4ebff;}#sk-container-id-2 div.sk-label input.sk-toggleable__control:checked~label.sk-toggleable__label {background-color: #d4ebff;}#sk-container-id-2 input.sk-hidden--visually {border: 0;clip: rect(1px 1px 1px 1px);clip: rect(1px, 1px, 1px, 1px);height: 1px;margin: -1px;overflow: hidden;padding: 0;position: absolute;width: 1px;}#sk-container-id-2 div.sk-estimator {font-family: monospace;background-color: #f0f8ff;border: 1px dotted black;border-radius: 0.25em;box-sizing: border-box;margin-bottom: 0.5em;}#sk-container-id-2 div.sk-estimator:hover {background-color: #d4ebff;}#sk-container-id-2 div.sk-parallel-item::after {content: \"\";width: 100%;border-bottom: 1px solid gray;flex-grow: 1;}#sk-container-id-2 div.sk-label:hover label.sk-toggleable__label {background-color: #d4ebff;}#sk-container-id-2 div.sk-serial::before {content: \"\";position: absolute;border-left: 1px solid gray;box-sizing: border-box;top: 0;bottom: 0;left: 50%;z-index: 0;}#sk-container-id-2 div.sk-serial {display: flex;flex-direction: column;align-items: center;background-color: white;padding-right: 0.2em;padding-left: 0.2em;position: relative;}#sk-container-id-2 div.sk-item {position: relative;z-index: 1;}#sk-container-id-2 div.sk-parallel {display: flex;align-items: stretch;justify-content: center;background-color: white;position: relative;}#sk-container-id-2 div.sk-item::before, #sk-container-id-2 div.sk-parallel-item::before {content: \"\";position: absolute;border-left: 1px solid gray;box-sizing: border-box;top: 0;bottom: 0;left: 50%;z-index: -1;}#sk-container-id-2 div.sk-parallel-item {display: flex;flex-direction: column;z-index: 1;position: relative;background-color: white;}#sk-container-id-2 div.sk-parallel-item:first-child::after {align-self: flex-end;width: 50%;}#sk-container-id-2 div.sk-parallel-item:last-child::after {align-self: flex-start;width: 50%;}#sk-container-id-2 div.sk-parallel-item:only-child::after {width: 0;}#sk-container-id-2 div.sk-dashed-wrapped {border: 1px dashed gray;margin: 0 0.4em 0.5em 0.4em;box-sizing: border-box;padding-bottom: 0.4em;background-color: white;}#sk-container-id-2 div.sk-label label {font-family: monospace;font-weight: bold;display: inline-block;line-height: 1.2em;}#sk-container-id-2 div.sk-label-container {text-align: center;}#sk-container-id-2 div.sk-container {/* jupyter's `normalize.less` sets `[hidden] { display: none; }` but bootstrap.min.css set `[hidden] { display: none !important; }` so we also need the `!important` here to be able to override the default hidden behavior on the sphinx rendered scikit-learn.org. See: https://github.com/scikit-learn/scikit-learn/issues/21755 */display: inline-block !important;position: relative;}#sk-container-id-2 div.sk-text-repr-fallback {display: none;}</style><div id=\"sk-container-id-2\" class=\"sk-top-container\"><div class=\"sk-text-repr-fallback\"><pre>DecisionTreeClassifier()</pre><b>In a Jupyter environment, please rerun this cell to show the HTML representation or trust the notebook. <br />On GitHub, the HTML representation is unable to render, please try loading this page with nbviewer.org.</b></div><div class=\"sk-container\" hidden><div class=\"sk-item\"><div class=\"sk-estimator sk-toggleable\"><input class=\"sk-toggleable__control sk-hidden--visually\" id=\"sk-estimator-id-2\" type=\"checkbox\" checked><label for=\"sk-estimator-id-2\" class=\"sk-toggleable__label sk-toggleable__label-arrow\">DecisionTreeClassifier</label><div class=\"sk-toggleable__content\"><pre>DecisionTreeClassifier()</pre></div></div></div></div></div>"
      ],
      "text/plain": [
       "DecisionTreeClassifier()"
      ]
     },
     "execution_count": 27,
     "metadata": {},
     "output_type": "execute_result"
    }
   ],
   "source": [
    "decision_model.fit(X_train, y_train)"
   ]
  },
  {
   "cell_type": "markdown",
   "id": "e61ff8bf",
   "metadata": {
    "papermill": {
     "duration": 0.019185,
     "end_time": "2024-07-08T06:38:42.943810",
     "exception": false,
     "start_time": "2024-07-08T06:38:42.924625",
     "status": "completed"
    },
    "tags": []
   },
   "source": [
    "**Accuracy Score Prediction using logistic regression.**"
   ]
  },
  {
   "cell_type": "code",
   "execution_count": 28,
   "id": "46cb39ee",
   "metadata": {
    "execution": {
     "iopub.execute_input": "2024-07-08T06:38:42.983189Z",
     "iopub.status.busy": "2024-07-08T06:38:42.982749Z",
     "iopub.status.idle": "2024-07-08T06:38:42.995222Z",
     "shell.execute_reply": "2024-07-08T06:38:42.993810Z"
    },
    "papermill": {
     "duration": 0.034635,
     "end_time": "2024-07-08T06:38:42.997868",
     "exception": false,
     "start_time": "2024-07-08T06:38:42.963233",
     "status": "completed"
    },
    "tags": []
   },
   "outputs": [
    {
     "data": {
      "text/plain": [
       "0.9703703703703703"
      ]
     },
     "execution_count": 28,
     "metadata": {},
     "output_type": "execute_result"
    }
   ],
   "source": [
    "y_train_logistic_predicted = logistic_model.predict(X_train)\n",
    "acc1 = accuracy_score(y_train, y_train_logistic_predicted)\n",
    "acc1"
   ]
  },
  {
   "cell_type": "code",
   "execution_count": 29,
   "id": "be30e3a7",
   "metadata": {
    "execution": {
     "iopub.execute_input": "2024-07-08T06:38:43.037153Z",
     "iopub.status.busy": "2024-07-08T06:38:43.036716Z",
     "iopub.status.idle": "2024-07-08T06:38:43.049017Z",
     "shell.execute_reply": "2024-07-08T06:38:43.047383Z"
    },
    "papermill": {
     "duration": 0.035546,
     "end_time": "2024-07-08T06:38:43.052382",
     "exception": false,
     "start_time": "2024-07-08T06:38:43.016836",
     "status": "completed"
    },
    "tags": []
   },
   "outputs": [
    {
     "data": {
      "text/plain": [
       "1.0"
      ]
     },
     "execution_count": 29,
     "metadata": {},
     "output_type": "execute_result"
    }
   ],
   "source": [
    "y_test_logistic_predicted = logistic_model.predict(X_test)\n",
    "acc2 = accuracy_score(y_test, y_test_logistic_predicted)\n",
    "acc2"
   ]
  },
  {
   "cell_type": "markdown",
   "id": "e8691bef",
   "metadata": {
    "papermill": {
     "duration": 0.019203,
     "end_time": "2024-07-08T06:38:43.090066",
     "exception": false,
     "start_time": "2024-07-08T06:38:43.070863",
     "status": "completed"
    },
    "tags": []
   },
   "source": [
    "**Accuracy Score Prediction using Decision Tree Classification**"
   ]
  },
  {
   "cell_type": "code",
   "execution_count": 30,
   "id": "541e343e",
   "metadata": {
    "execution": {
     "iopub.execute_input": "2024-07-08T06:38:43.129041Z",
     "iopub.status.busy": "2024-07-08T06:38:43.128661Z",
     "iopub.status.idle": "2024-07-08T06:38:43.139424Z",
     "shell.execute_reply": "2024-07-08T06:38:43.138004Z"
    },
    "papermill": {
     "duration": 0.033403,
     "end_time": "2024-07-08T06:38:43.142158",
     "exception": false,
     "start_time": "2024-07-08T06:38:43.108755",
     "status": "completed"
    },
    "tags": []
   },
   "outputs": [
    {
     "data": {
      "text/plain": [
       "1.0"
      ]
     },
     "execution_count": 30,
     "metadata": {},
     "output_type": "execute_result"
    }
   ],
   "source": [
    "y_train_tree_predicted = decision_model.predict(X_train)\n",
    "acc3 = accuracy_score(y_train, y_train_tree_predicted)\n",
    "acc3"
   ]
  },
  {
   "cell_type": "code",
   "execution_count": 31,
   "id": "1903dbfc",
   "metadata": {
    "execution": {
     "iopub.execute_input": "2024-07-08T06:38:43.180925Z",
     "iopub.status.busy": "2024-07-08T06:38:43.180504Z",
     "iopub.status.idle": "2024-07-08T06:38:43.192260Z",
     "shell.execute_reply": "2024-07-08T06:38:43.191032Z"
    },
    "papermill": {
     "duration": 0.034069,
     "end_time": "2024-07-08T06:38:43.194733",
     "exception": false,
     "start_time": "2024-07-08T06:38:43.160664",
     "status": "completed"
    },
    "tags": []
   },
   "outputs": [
    {
     "data": {
      "text/plain": [
       "1.0"
      ]
     },
     "execution_count": 31,
     "metadata": {},
     "output_type": "execute_result"
    }
   ],
   "source": [
    "y_test_tree_predicted = decision_model.predict(X_test)\n",
    "acc4 = accuracy_score(y_test, y_test_tree_predicted)\n",
    "acc4"
   ]
  },
  {
   "cell_type": "code",
   "execution_count": null,
   "id": "602a98e0",
   "metadata": {
    "papermill": {
     "duration": 0.018345,
     "end_time": "2024-07-08T06:38:43.231903",
     "exception": false,
     "start_time": "2024-07-08T06:38:43.213558",
     "status": "completed"
    },
    "tags": []
   },
   "outputs": [],
   "source": []
  }
 ],
 "metadata": {
  "kaggle": {
   "accelerator": "none",
   "dataSources": [
    {
     "datasetId": 17860,
     "sourceId": 23404,
     "sourceType": "datasetVersion"
    }
   ],
   "dockerImageVersionId": 30732,
   "isGpuEnabled": false,
   "isInternetEnabled": true,
   "language": "python",
   "sourceType": "notebook"
  },
  "kernelspec": {
   "display_name": "Python 3 (ipykernel)",
   "language": "python",
   "name": "python3"
  },
  "language_info": {
   "codemirror_mode": {
    "name": "ipython",
    "version": 3
   },
   "file_extension": ".py",
   "mimetype": "text/x-python",
   "name": "python",
   "nbconvert_exporter": "python",
   "pygments_lexer": "ipython3",
   "version": "3.9.12"
  },
  "papermill": {
   "default_parameters": {},
   "duration": 10.652701,
   "end_time": "2024-07-08T06:38:43.974148",
   "environment_variables": {},
   "exception": null,
   "input_path": "__notebook__.ipynb",
   "output_path": "__notebook__.ipynb",
   "parameters": {},
   "start_time": "2024-07-08T06:38:33.321447",
   "version": "2.5.0"
  }
 },
 "nbformat": 4,
 "nbformat_minor": 5
}
